{
 "cells": [
  {
   "cell_type": "code",
   "execution_count": 1,
   "metadata": {},
   "outputs": [],
   "source": [
    "import random\n",
    "import ipyvuetify as v\n",
    "from traitlets import Int, List, HasTraits, TraitError, observe, validate\n",
    "import pandas as pd\n",
    "import ipywidgets as widgets\n",
    "import numpy as np\n",
    "from bqplot import pyplot as plt\n",
    "import bqplot"
   ]
  },
  {
   "cell_type": "markdown",
   "metadata": {},
   "source": [
    "# Project"
   ]
  },
  {
   "cell_type": "code",
   "execution_count": 2,
   "metadata": {},
   "outputs": [],
   "source": [
    "import wdwrap\n",
    "import wdwrap.ui\n",
    "from wdwrap.ui.vuetify import EnumSelect, PandasDataFrame\n",
    "from wdwrap.io import Reader_ravespan_rv, Reader_hjd_mag"
   ]
  },
  {
   "cell_type": "code",
   "execution_count": 3,
   "metadata": {},
   "outputs": [],
   "source": [
    "project = wdwrap.ui.project.Project()"
   ]
  },
  {
   "cell_type": "markdown",
   "metadata": {},
   "source": [
    "## Curves List"
   ]
  },
  {
   "cell_type": "code",
   "execution_count": 4,
   "metadata": {},
   "outputs": [],
   "source": [
    "TEST = None\n",
    "def list_set_op(lst, element, add):\n",
    "    if add:\n",
    "        return list(set(lst) | {element})\n",
    "    else:  # subtract\n",
    "        return list(set(lst) - {element})\n",
    "\n",
    "class EnumSelect(v.Select):\n",
    "    \"\"\" Class for comobobox items\"\"\"\n",
    "\n",
    "    def __init__(self, obj, prop, **kwargs) -> None:\n",
    "        self.trait = obj.class_traits()[prop]\n",
    "        self.obj = obj\n",
    "        self.prop = prop\n",
    "        super().__init__(items=self.select_items(), v_model=getattr(obj, prop), **kwargs)\n",
    "    \n",
    "    def select_items(self):\n",
    "        return [{'text': f'{k} {v}', 'value': k} for k, v in self.trait.values.items()]\n",
    "    \n",
    "    @observe('v_model')  \n",
    "    def handler_v_model(self, change):\n",
    "        setattr(self.obj, self.prop, change['new'])\n",
    "#         print(f'New val {change[\"new\"]}')\n",
    "\n",
    "class NumberInput(v.TextField):\n",
    "    def __init__(self, obj, prop, **kwargs) -> None:\n",
    "        self.obj = obj\n",
    "        self.prop = prop\n",
    "        super().__init__(v_model=getattr(obj, prop), **kwargs)\n",
    "    \n",
    "    @observe('v_model')  \n",
    "    def handler_v_model(self, change):\n",
    "        setattr(self.obj, self.prop, change['new'])\n",
    "#         print(f'New val {change[\"new\"]}')\n",
    "\n",
    "class BoolInput(v.Checkbox):\n",
    "    def __init__(self, obj, prop, **kwargs) -> None:\n",
    "        self.obj = obj\n",
    "        self.prop = prop\n",
    "        super().__init__(v_model=getattr(obj, prop), **kwargs)\n",
    "    \n",
    "    @observe('v_model')  \n",
    "    def handler_v_model(self, change):\n",
    "        setattr(self.obj, self.prop, change['new'])\n",
    "#         print(f'New val {change[\"new\"]}')\n",
    "\n",
    "def gen_controls(collection, include=None, exclude=None, colskw={}, **kwargs):\n",
    "    controls = []\n",
    "    for p in collection.params:\n",
    "        if include is not None and p.name not in include:\n",
    "            continue\n",
    "        if exclude is not None and p.name in exclude:\n",
    "            continue\n",
    "        kwargs['label'] = p.name\n",
    "        kwargs['hint'] = p.pclass.help_str\n",
    "        if p.pclass.help_val:\n",
    "            va = EnumSelect(p, 'val', **kwargs)\n",
    "        elif isinstance(p, wdwrap.param.FloatParameter):\n",
    "            va = NumberInput(p, 'ui_val', **kwargs)\n",
    "        else:\n",
    "            va = NumberInput(p, 'ui_val', **kwargs)\n",
    "#         controls.append(v.Col(children=[v.Card(children=[p.name, va])]))\n",
    "        controls.append(v.Col(children=[va], **colskw))\n",
    "#         controls.append(va)\n",
    "    return controls\n",
    "\n",
    "\n",
    "class WdControlsContainer(v.Container):\n",
    "    def __init__(self, parent, rows, params, **kwargs) -> None:\n",
    "        self.parent = parent\n",
    "        self.params = params\n",
    "        self.rows = rows\n",
    "        super().__init__(children=self.make_children(), **kwargs)\n",
    "        \n",
    "    def make_children(self):\n",
    "        children = []\n",
    "        for r in rows:\n",
    "            children.append(self.make_wdpar_row(first=True, **r))\n",
    "        return children\n",
    "            \n",
    "    def make_wdpar_row(self, include=None, exclude=None):\n",
    "        return v.Row(wrap=True, dense=True, children=self.gen_controls(\n",
    "            self.params, colskw={'cols':False},\n",
    "            include=include, exclude=exclude)) \n",
    "    \n",
    "    @staticmethod\n",
    "    def gen_controls(collection, include=None, exclude=None, colskw={}, **kwargs):\n",
    "        controls = []\n",
    "        for p in collection.params:\n",
    "            if include is not None and p.name not in include:\n",
    "                continue\n",
    "            if exclude is not None and p.name in exclude:\n",
    "                continue\n",
    "            kwargs['label'] = p.name\n",
    "            kwargs['hint'] = p.pclass.help_str\n",
    "            if p.pclass.help_val:\n",
    "                va = EnumSelect(p, 'val', **kwargs)\n",
    "            elif isinstance(p, wdwrap.param.FloatParameter):\n",
    "                va = NumberInput(p, 'ui_val', **kwargs)\n",
    "            else:\n",
    "                va = NumberInput(p, 'ui_val', **kwargs)\n",
    "    #         controls.append(v.Col(children=[v.Card(children=[p.name, va])]))\n",
    "            controls.append(v.Col(children=[va], **colskw))\n",
    "    #         controls.append(va)\n",
    "        return controls\n",
    "\n",
    "\n",
    "\n",
    "\n",
    "\n",
    "class CurveExtPanel(v.ExpansionPanel):\n",
    "    curv_par_ln1 = ['IBAND', 'HLUM', 'CLUM', 'EL3', 'WL']\n",
    "\n",
    "    def __init__(self, curve, project, parent, **kwargs) -> None:\n",
    "        self.color = f'#{random.randint(0, 0xffffff):06x}44'\n",
    "        self.project = project\n",
    "        self.parent = parent\n",
    "        self.curve = curve\n",
    "        self.controlcol_kw = {'cols': False}\n",
    "        self.control_kw = {'outlined': False, 'dense': True}\n",
    "        self.element_observed = v.Row()\n",
    "        self.avatar = v.Avatar(children=[self.get_atavartext()], \n",
    "                         color=self.color, size=36)\n",
    "        self.filename = v.Html(tag='div', children=self.make_filename())\n",
    "        super().__init__(children=self.make_children(), **kwargs)\n",
    "        self.curve.observe(lambda ch: self.on_curve_plot_change(ch), 'plot')\n",
    "        self.curve.observe(lambda ch: self.on_curve_fit_change(ch), 'fit')\n",
    "        self.curve.obs_values.observe(lambda ch: self.on_observed_df_change(ch), 'dataframe')\n",
    "        self.curve.obs_values.observe(lambda ch: self.on_observed_df_dataversion_change(ch), 'df_version')\n",
    "        self.curve.obs_values.observe(lambda ch: self.on_observed_filename_change(ch), 'filename')\n",
    "        \n",
    "    @property\n",
    "    def is_rv(self):\n",
    "        return isinstance(self.curve, wdwrap.ui.curves.VelocCurve)\n",
    "\n",
    "    def get_atavartext(self):\n",
    "        if self.is_rv:\n",
    "            return 'RV'\n",
    "        else:\n",
    "            iband = self.curve.wdparams['IBAND']\n",
    "            if iband is not None:\n",
    "                def on_iband_changed(chng):\n",
    "                    self.avatar.children = [self.get_atavartext()]\n",
    "                iband.observe(on_iband_changed, 'val', 'change')\n",
    "                return iband.pclass.help_val[iband.val].split()[0]\n",
    "            \n",
    "    \n",
    "    def make_children(self):\n",
    "        del_btn = v.Btn(small=True, icon=True, color='red', children=[\n",
    "                    v.Icon(small=True, dense=True, children=['mdi-close'])])\n",
    "        del_btn.on_event('click', lambda *args: self.on_delete())\n",
    "        upload_btn = v.Btn(small=True, color='primary', children=['Upload...'])\n",
    "        upload_btn.on_event('click', lambda *args: self.on_upload())\n",
    "        self.element_observed.children=self.make_observed()\n",
    "        \n",
    "\n",
    "        hdr = v.ExpansionPanelHeader(children=[\n",
    "            v.Row(children=[\n",
    "                v.Col(children=[self.avatar]),\n",
    "                v.Col(children=[self.filename]),\n",
    "                v.Spacer(),\n",
    "                self.make_buttons(),\n",
    "                del_btn,\n",
    "                ]),\n",
    "            ])\n",
    "        cnt = v.ExpansionPanelContent(children=[\n",
    "            v.Container(fluid=True, children=[\n",
    "                self.make_wdpar_row(first=True),\n",
    "                self.make_wdpar_row(first=False),\n",
    "            ]),\n",
    "            v.Container(fluid=True, children=[\n",
    "                v.Row(children=[\n",
    "                    v.Col(children=['Observed']),\n",
    "                    upload_btn,\n",
    "                ]),\n",
    "                self.element_observed,\n",
    "            ])\n",
    "        ])        \n",
    "        return [hdr, cnt]\n",
    "    \n",
    "    def make_observed(self):\n",
    "        obs = self.curve.obs_values\n",
    "        if obs.empty():\n",
    "            return []\n",
    "        controls = [\n",
    "            NumberInput(obs.phaser, 'period', label='period', hint='[d] can be empty'),\n",
    "            NumberInput(obs.phaser, 'hjd0', label='HJD 0', hint='shifts hjd'),\n",
    "            NumberInput(obs.phaser, 'delta', label='phase delta', hint='in days, shifts phase'),\n",
    "            BoolInput(obs.resampler, 'active', label='binning'),\n",
    "            NumberInput(obs.resampler, 'k', label='# of bins', hint='equal width bins'),\n",
    "        ]\n",
    "        return [v.Col(children=[c]) for c in controls]\n",
    "        \n",
    "    \n",
    "    def make_buttons(self):\n",
    "        model = []\n",
    "        model = list_set_op(model, 'plot', self.curve.plot)\n",
    "        model = list_set_op(model, 'fit', self.curve.fit)\n",
    "        self.buttons = v.BtnToggle(multiple=True, dense=True, group=True, color='primary', \n",
    "            v_model=model,\n",
    "            children=[\n",
    "                self.make_button('plot', icon='mdi-eye-outline', tooltip='Show on plot'),\n",
    "                self.make_button('fit', icon='mdi-vector-radius', tooltip='Active in fitting'),\n",
    "            ])\n",
    "        self.buttons.observe(lambda ch: self.on_button_change(ch), 'v_model')\n",
    "        return self.buttons\n",
    "    \n",
    "    def make_button(self, val, icon, tooltip=None, **kwargs):\n",
    "        if tooltip:\n",
    "            kwargs['slot'] = 'activator'\n",
    "        btn = v.Btn(value=val, small=True, children=[\n",
    "            v.Icon(small=True, dense=True, children=[icon])], **kwargs)\n",
    "        if tooltip:\n",
    "            return v.Tooltip(children=[btn])\n",
    "        else:\n",
    "            return btn\n",
    "\n",
    "    def make_wdpar_row(self, first: bool):\n",
    "        return v.Row(wrap=True, dense=True, children=self.gen_controls(\n",
    "            self.curve.wdparams, colskw={'cols':False},\n",
    "            include=self.curv_par_ln1 if first else None, exclude=None if first else self.curv_par_ln1, \n",
    "            **self.control_kw)) \n",
    "    \n",
    "    def make_filename(self, filename=None):\n",
    "        if filename is None:\n",
    "            filename = self.curve.obs_values.filename\n",
    "        if filename:\n",
    "            return [v.Chip(children=[filename])]\n",
    "        else:\n",
    "            return []\n",
    "\n",
    "    def on_button_change(self, change):\n",
    "        self.curve.plot = 'plot' in self.buttons.v_model\n",
    "        self.curve.fit  = 'fit'  in self.buttons.v_model\n",
    "            \n",
    "    def on_delete(self):\n",
    "        self.project.delete_curve(self.curve)\n",
    "        \n",
    "    def on_curve_plot_change(self, change):\n",
    "        self.buttons.v_model = list_set_op(self.buttons.v_model, 'plot', change['new'])\n",
    "\n",
    "    def on_curve_fit_change(self, change):\n",
    "        self.buttons.v_model = list_set_op(self.buttons.v_model, 'fit', change['new'])\n",
    "        \n",
    "    def on_observed_df_change(self, change):\n",
    "        observed_controls = self.make_observed()\n",
    "        self.element_observed.children = observed_controls\n",
    "\n",
    "    def on_observed_df_dataversion_change(self, change):\n",
    "        pass\n",
    "    \n",
    "    def on_observed_filename_change(self, change):\n",
    "        new = change['new']\n",
    "        self.filename.children = self.make_filename(new)\n",
    "        \n",
    "    def on_upload(self):\n",
    "        self.parent.parent.parent.upload_dialog(self)\n",
    "        \n",
    "    @staticmethod\n",
    "    def gen_controls(collection, include=None, exclude=None, colskw={}, **kwargs):\n",
    "        controls = []\n",
    "        for p in collection.params:\n",
    "            if include is not None and p.name not in include:\n",
    "                continue\n",
    "            if exclude is not None and p.name in exclude:\n",
    "                continue\n",
    "            kwargs['label'] = p.name\n",
    "            kwargs['hint'] = p.pclass.help_str\n",
    "            if p.pclass.help_val:\n",
    "                va = EnumSelect(p, 'val', **kwargs)\n",
    "            elif isinstance(p, wdwrap.param.FloatParameter):\n",
    "                va = NumberInput(p, 'ui_val', **kwargs)\n",
    "            else:\n",
    "                va = NumberInput(p, 'ui_val', **kwargs)\n",
    "    #         controls.append(v.Col(children=[v.Card(children=[p.name, va])]))\n",
    "            controls.append(v.Col(children=[va], **colskw))\n",
    "    #         controls.append(va)\n",
    "        return controls\n",
    "\n",
    "class CurvesPanels(v.ExpansionPanels):\n",
    "\n",
    "    def __init__(self, project, parent, **kwargs) -> None:\n",
    "        self.project = project\n",
    "        self.parent = parent\n",
    "        self.panels = {}\n",
    "        super().__init__(children=self.make_children(), multiple=True, accordion=True, **kwargs)\n",
    "        \n",
    "        project.observe(lambda change: self.on_curve_mutation(change, rv=True), 'veloc_curves_len')\n",
    "        project.observe(lambda change: self.on_curve_mutation(change, rv=False), 'light_curves_len')\n",
    "        \n",
    "    def on_curve_mutation(self, change, rv):\n",
    "        print (f'Time of change rv={rv} {change[\"old\"]} => {change[\"new\"]}')\n",
    "        self.children = self.make_children()\n",
    "\n",
    "        \n",
    "    def make_children(self):\n",
    "        rvpanels = [self.make_panel(c) for c in project.veloc_curves]\n",
    "        ltpanels = [self.make_panel(c) for c in project.light_curves]\n",
    "        panels = rvpanels + ltpanels\n",
    "        self.panels = {id(p.curve): p for  p in panels}\n",
    "        return rvpanels + ltpanels\n",
    "    \n",
    "    def make_panel(self, c):\n",
    "        # try to reuse\n",
    "        try:\n",
    "            p = self.panels[id(c)]\n",
    "        except LookupError:\n",
    "            p = CurveExtPanel(c, self.project, parent=self)\n",
    "        return p\n",
    "    \n",
    "    @validate('v_model')\n",
    "    def openclose_ok(self, proposal):\n",
    "        p = proposal['value']\n",
    "        return p\n",
    "    \n",
    "\n",
    "#    <v-btn outline color=\"indigo\">Outline Button</v-btn>\n",
    "\n",
    "class UploadDialog(v.Dialog):\n",
    "    def __init__(self, project, parent, **kwargs) -> None:\n",
    "        self.project = project\n",
    "        self.parent = parent\n",
    "        self.icon = ''\n",
    "        self.curve = None\n",
    "        self.datatable = PandasDataFrame(caption='Data')\n",
    "        self.filename = ''\n",
    "        self.filename_tag = v.Html(tag='div', children=['Filename: <no file>'])\n",
    "        super().__init__(children=self.make_children(), v_model=False, scrollable=True, **kwargs)\n",
    "        \n",
    "    @property\n",
    "    def rv(self):\n",
    "        try: \n",
    "            return self.curve.is_rv()\n",
    "        except AttributeError:\n",
    "            return False\n",
    "        \n",
    "    def make_children(self):\n",
    "#         cancelbtn = v.Btn(text=True, color=\"red darken-1\", children=['Cancel'])\n",
    "        cancelbtn = v.Btn(icon=True, dark=True,  children=[v.Icon(children=['mdi-close'])])\n",
    "        savebtn = v.Btn(text=True, dark=True, children=['Save']) # color=\"green darken-1\"\n",
    "        cancelbtn.on_event('click', lambda *args: self.cancel())\n",
    "        savebtn.on_event('click', lambda *args: self.save())\n",
    "        return [\n",
    "            v.Card(children=[\n",
    "                v.Toolbar(dark=True, color='primary', children=[\n",
    "                    cancelbtn, self.icon,\n",
    "                    v.ToolbarTitle(\n",
    "                        children=[f'Upload observed {\"velocity curves\" if self.rv else \"light curve\"}']),\n",
    "                    v.Spacer(), \n",
    "                    v.ToolbarItems(children=[savebtn])\n",
    "                ]),\n",
    "                v.CardText(style=\"height: 300px;\", children = self.make_text() + [\n",
    "                    self.make_sections(),\n",
    "                    self.datatable])\n",
    "            ])\n",
    "        ]\n",
    "\n",
    "    def make_sections(self):\n",
    "        s = v.Row(justify='start', align='center', children=[\n",
    "            self.make_columns_hint(), v.Spacer(),\n",
    "            self.make_uploader(), v.Spacer(),\n",
    "            self.make_filename(),\n",
    "        ])\n",
    "        return v.CardText(children = [s])\n",
    "        \n",
    "    def make_filename(self):\n",
    "        return self.filename_tag # v.Card(children=[self.filename_tag])\n",
    "        \n",
    "    def make_uploader(self):\n",
    "        uploader = widgets.FileUpload(\n",
    "            description='Select File',\n",
    "            icon='plus',\n",
    "            accept='',  # Accepted file extension e.g. '.txt', '.pdf', 'image/*', 'image/*,.pdf'\n",
    "            multiple=False  # True to accept multiple files upload else False\n",
    "        )\n",
    "        uploader.observe(lambda change: self.on_file_uploaded(change), 'value')\n",
    "        return v.Chip(label=True, outlined=True, children=[uploader], color='blue')\n",
    "\n",
    "    def make_columns_hint(self):\n",
    "        if self.rv:\n",
    "            columns = ['HJD', 'RV1', 'RV1 error', 'RV2', 'RV2 error']\n",
    "        else:\n",
    "            columns = ['HJD', 'mag', 'mag error [optional]']\n",
    "        html = v.Html(tag='ol', children=[v.Html(tag='li', children=[txt]) for txt in columns])\n",
    "        return html # v.Card(children=[html])\n",
    "        \n",
    "    def make_text(self):\n",
    "        children=[\n",
    "            'Currently, the imported files format is fixed.', v.Html(tag='br'),\n",
    "            'File is expected to be text file, with white space separated columns. '\\\n",
    "            'An empy lines and lines stated with # sign are skipped.', v.Html(tag='br'),\n",
    "            'The following colums are expected: (additional columns will be ignored)', v.Html(tag='br'),\n",
    "        ]\n",
    "        return children\n",
    "    \n",
    "    def on_file_uploaded(self, change):\n",
    "        new = change['new']\n",
    "        filename, file = list(new.items())[0]\n",
    "        self.filename = filename\n",
    "        self.filename_tag.children = [f'Filename: {filename}']\n",
    "        if self.rv:\n",
    "            reader = Reader_ravespan_rv()\n",
    "        else:\n",
    "            reader = Reader_hjd_mag()\n",
    "        reader.open_bytes(file['content'], filename)\n",
    "        self.datatable.df = reader.df\n",
    "    \n",
    "        \n",
    "    def cancel(self):\n",
    "        self.close()\n",
    "        \n",
    "    def save(self):\n",
    "        self.curve.obs_values.set_df(self.datatable.df)\n",
    "        self.curve.obs_values.filename = self.filename\n",
    "        self.close()\n",
    "        \n",
    "    def show(self, curve, icon=''):\n",
    "        self.curve = curve\n",
    "        self.icon = icon\n",
    "        self.filename = ''\n",
    "        self.filename_tag.children = []\n",
    "        self.children = self.make_children()\n",
    "        self.datatable.df = pd.DataFrame()\n",
    "        self.v_model = True\n",
    "        \n",
    "    def close(self):\n",
    "        self.v_model = False\n",
    "\n",
    "class CurvesCard(v.Card):\n",
    "    def __init__(self, project, parent=None, **kwargs) -> None:\n",
    "        self.project = project\n",
    "        self.parent = parent\n",
    "        super().__init__(children=self.make_children(), **kwargs)\n",
    "        \n",
    "    def make_children(self):\n",
    "        new_rv_btn = self.make_button('RV', 'mdi-plus', outlined=True, small=True, color='primary')\n",
    "        new_lt_btn = self.make_button('Light', 'mdi-plus', outlined=True, small=True, color='primary')\n",
    "        new_rv_btn.on_event('click', lambda *args: self.project.new_curve(rv=True))\n",
    "        new_lt_btn.on_event('click', lambda *args: self.project.new_curve(rv=False))\n",
    "        title = v.CardTitle(children=[\n",
    "            v.Row(children=['Curves', v.Spacer(), new_rv_btn, new_lt_btn])])\n",
    "\n",
    "        panels = CurvesPanels(project, parent=self, v_model=[0,1])\n",
    "        return [title, panels]\n",
    "    \n",
    "    def make_button(self, text, icon=None, kw_icon={}, **kwargs):\n",
    "        if icon is not None:\n",
    "            children = [v.Icon(left=True, small=True, children=[icon], **kw_icon), text]\n",
    "        else:\n",
    "            children = [text]\n",
    "        return v.Btn(children=children, **kwargs)\n",
    "\n",
    "class LcCard(v.Card):\n",
    "    def __init__(self, project, parent=None, **kwargs) -> None:\n",
    "        self.project = project\n",
    "        self.parent = parent\n",
    "        super().__init__(children=self.make_children(), **kwargs)\n",
    "        \n",
    "    def make_children(self):\n",
    "        title = v.CardTitle(children=[\n",
    "            v.Row(children=['WD LC parameters']),\n",
    "            \n",
    "        ])\n",
    "# dupa\n",
    "#         panels = CurvesPanels(project, parent=self, v_model=[0,1])\n",
    "        return [title, self.make_parameters(), \n",
    "                self.make_charts(), self.make_charts()]\n",
    "    \n",
    "    def make_parameters(self):\n",
    "        return ''\n",
    "    \n",
    "    def make_charts(self):\n",
    "        n = 200\n",
    "\n",
    "        x = np.linspace(0.0, 10.0, n)\n",
    "        y = np.cumsum(np.random.randn(n)*10).astype(int)\n",
    "\n",
    "        fig = plt.figure( title='Histogram')\n",
    "        np.random.seed(0)\n",
    "        hist = plt.hist(y, bins=25)\n",
    "        hist.scales['sample'].min = float(y.min())\n",
    "        hist.scales['sample'].max = float(y.max())\n",
    "        fig.layout.width = 'auto'\n",
    "        fig.layout.height = 'auto'\n",
    "#         fig.layout.min_height = '300px' # so it shows nicely in the notebook\n",
    "        return fig\n",
    "    \n",
    "        \n",
    "\n",
    "        \n",
    "class AppArea(v.Layout):\n",
    "\n",
    "    def __init__(self, project, **kwargs) -> None:\n",
    "        self.project = project\n",
    "        self.upload_dlg = UploadDialog(project, parent=self)\n",
    "        super().__init__(children=self.make_children(), _metadata={'mount_id': 'content-main'}, \n",
    "                        )#row=True, **kwargs)\n",
    "        \n",
    "    def make_children(self):\n",
    "        return [\n",
    "            self.upload_dlg,\n",
    "            v.Flex(xs12=True, lg6=True, xl4=True, children=[CurvesCard(self.project, parent=self)]),\n",
    "            v.Flex(xs12=True, lg6=True, xl4=True, children=[\n",
    "                v.Tabs(children=[\n",
    "                    v.Tab(children=['LC']),\n",
    "                    v.Tab(children=['Markov CMC']),\n",
    "                    v.TabItem(children=[LcCard(self.project, parent=self)]),\n",
    "                    v.TabItem(children=['Macrcov Chain Monte Carlo goes here']),\n",
    "                ])\n",
    "            ]),\n",
    "        ]\n",
    "    \n",
    "    def upload_dialog(self, curve_panel: CurveExtPanel):\n",
    "        self.upload_dlg.show(curve = curve_panel.curve, icon=curve_panel.avatar)\n"
   ]
  },
  {
   "cell_type": "code",
   "execution_count": 5,
   "metadata": {
    "scrolled": false
   },
   "outputs": [
    {
     "data": {
      "application/vnd.jupyter.widget-view+json": {
       "model_id": "b4eefd39eda942e095e8b241e6385cb6",
       "version_major": 2,
       "version_minor": 0
      },
      "text/plain": [
       "AppArea(children=[UploadDialog(children=[Card(children=[Toolbar(children=[Btn(children=[Icon(children=['mdi-cl…"
      ]
     },
     "metadata": {},
     "output_type": "display_data"
    }
   ],
   "source": [
    "app = AppArea(project)\n",
    "app"
   ]
  },
  {
   "cell_type": "code",
   "execution_count": 6,
   "metadata": {},
   "outputs": [],
   "source": [
    "c = project.veloc_curves[0]\n",
    "o = c.obs_values.df"
   ]
  },
  {
   "cell_type": "code",
   "execution_count": 7,
   "metadata": {},
   "outputs": [],
   "source": [
    "#c.obs_values.dataframe = pd.DataFrame()"
   ]
  },
  {
   "cell_type": "code",
   "execution_count": 8,
   "metadata": {},
   "outputs": [],
   "source": [
    "c.obs_values.traits()['dataframe']\n",
    "cdt = c.obs_values.traits()['dataframe']"
   ]
  },
  {
   "cell_type": "code",
   "execution_count": 9,
   "metadata": {},
   "outputs": [
    {
     "data": {
      "text/plain": [
       "<function __main__.CurveExtPanel.__init__.<locals>.<lambda>(ch)>"
      ]
     },
     "execution_count": 9,
     "metadata": {},
     "output_type": "execute_result"
    }
   ],
   "source": [
    "c.obs_values._trait_notifiers['dataframe']['change'][0]"
   ]
  },
  {
   "cell_type": "code",
   "execution_count": 10,
   "metadata": {},
   "outputs": [
    {
     "data": {
      "text/plain": [
       "''"
      ]
     },
     "execution_count": 10,
     "metadata": {},
     "output_type": "execute_result"
    }
   ],
   "source": [
    "c.obs_values.filename"
   ]
  },
  {
   "cell_type": "code",
   "execution_count": 11,
   "metadata": {},
   "outputs": [
    {
     "data": {
      "text/plain": [
       "{'dataframe': {'change': [<function __main__.CurveExtPanel.__init__.<locals>.<lambda>(ch)>]},\n",
       " 'df_version': {'change': [<function __main__.CurveExtPanel.__init__.<locals>.<lambda>(ch)>]},\n",
       " 'filename': {'change': [<function __main__.CurveExtPanel.__init__.<locals>.<lambda>(ch)>]}}"
      ]
     },
     "execution_count": 11,
     "metadata": {},
     "output_type": "execute_result"
    }
   ],
   "source": [
    "c.obs_values._trait_notifiers"
   ]
  },
  {
   "cell_type": "code",
   "execution_count": 12,
   "metadata": {},
   "outputs": [],
   "source": [
    "c.obs_values.df_version = 8"
   ]
  },
  {
   "cell_type": "code",
   "execution_count": 13,
   "metadata": {},
   "outputs": [],
   "source": [
    "def px(change):\n",
    "    print (change['new'])\n",
    "c.obs_values.observe(px, 'df_version')"
   ]
  },
  {
   "cell_type": "code",
   "execution_count": 14,
   "metadata": {
    "scrolled": false
   },
   "outputs": [
    {
     "ename": "NameError",
     "evalue": "name 'curv_par_ln1' is not defined",
     "output_type": "error",
     "traceback": [
      "\u001b[0;31m---------------------------------------------------------------------------\u001b[0m",
      "\u001b[0;31mNameError\u001b[0m                                 Traceback (most recent call last)",
      "\u001b[0;32m<ipython-input-14-02effb9b905d>\u001b[0m in \u001b[0;36m<module>\u001b[0;34m\u001b[0m\n\u001b[1;32m      1\u001b[0m curve_gen_rows = [\n\u001b[0;32m----> 2\u001b[0;31m     v.Row(children=gen_controls(c.wdparams, include=curv_par_ln1, \n\u001b[0m\u001b[1;32m      3\u001b[0m                                 outlined=True, dense=True, colskw={'cols':False}), \n\u001b[1;32m      4\u001b[0m           wrap=True, dense=True),\n\u001b[1;32m      5\u001b[0m     v.Row(children=gen_controls(c.wdparams, exclude=curv_par_ln1, \n",
      "\u001b[0;31mNameError\u001b[0m: name 'curv_par_ln1' is not defined"
     ]
    }
   ],
   "source": [
    "curve_gen_rows = [\n",
    "    v.Row(children=gen_controls(c.wdparams, include=curv_par_ln1, \n",
    "                                outlined=True, dense=True, colskw={'cols':False}), \n",
    "          wrap=True, dense=True),\n",
    "    v.Row(children=gen_controls(c.wdparams, exclude=curv_par_ln1, \n",
    "                                outlined=True, dense=True, colskw={'cols':False}), \n",
    "          wrap=True, dense=True, row=False),\n",
    "]\n",
    "\n",
    "curve_gen_par = v.Container(children=curve_gen_rows, fluid=True)\n"
   ]
  },
  {
   "cell_type": "code",
   "execution_count": null,
   "metadata": {},
   "outputs": [],
   "source": [
    "u = v.Layout(children=[\n",
    "    v.Btn(color='primary', children=[\n",
    "        v.Icon(left=True, children=['fingerprint']),\n",
    "        'Icon left'\n",
    "    ]),\n",
    "    v.Btn(color='primary', children=[\n",
    "        'Icon right',\n",
    "        v.Icon(right=True, children=['fingerprint']),\n",
    "    ]),\n",
    "    v.Tooltip(children=[\n",
    "        v.Btn(slot='activator', color='primary', children=[\n",
    "            'tooltip dupa'\n",
    "        ]),\n",
    "        'Insert tooltip text here'\n",
    "    ])\n",
    "])\n",
    "display(u)"
   ]
  },
  {
   "cell_type": "code",
   "execution_count": null,
   "metadata": {},
   "outputs": [],
   "source": [
    "c.wdparams.param_dict['IBAND'].val"
   ]
  },
  {
   "cell_type": "code",
   "execution_count": null,
   "metadata": {},
   "outputs": [],
   "source": [
    "' '.join(c.wdparams.param_dict), c.wdparams.param_dict['IBAND'].val"
   ]
  },
  {
   "cell_type": "code",
   "execution_count": null,
   "metadata": {},
   "outputs": [],
   "source": [
    "\n",
    "\n",
    "rvpanels = [\n",
    "    v.ExpansionPanel(children=[\n",
    "        v.ExpansionPanelHeader (children=[v.Row(children=[v.Avatar(children=['RV'], color='pink', size=36)])]),\n",
    "        v.ExpansionPanelContent(children=[curve_gen_rows]),\n",
    "    ]) for c in project.veloc_curves\n",
    "]\n",
    "lpanels = [\n",
    "    v.ExpansionPanel(children=[\n",
    "        v.ExpansionPanelHeader (children=[str(c.wdparams.param_dict['IBAND'].val)]),\n",
    "        v.ExpansionPanelContent(children=['a','b']),\n",
    "    ]) for c in project.veloc_curves\n",
    "]\n",
    "\n",
    "clist = v.ExpansionPanels(children=rvpanels + lpanels, accordion=True)\n",
    "\n",
    "display(clist)"
   ]
  },
  {
   "cell_type": "code",
   "execution_count": null,
   "metadata": {},
   "outputs": [],
   "source": [
    "xxx = v.Avatar(children=['RV'], color='FF345644', size=36)\n",
    "xxx"
   ]
  },
  {
   "cell_type": "code",
   "execution_count": null,
   "metadata": {},
   "outputs": [],
   "source": [
    "f'#{random.randint(0, 0xffffff):06x}44'"
   ]
  },
  {
   "cell_type": "code",
   "execution_count": null,
   "metadata": {},
   "outputs": [],
   "source": [
    "\n",
    "class EnumSelect(v.Select):\n",
    "    \"\"\" Class for comobobox items\"\"\"\n",
    "\n",
    "    def __init__(self, obj, prop, **kwargs) -> None:\n",
    "        self.trait = obj.class_traits()[prop]\n",
    "        self.obj = obj\n",
    "        self.prop = prop\n",
    "        super().__init__(items=self.select_items(), v_model=getattr(obj, prop), **kwargs)\n",
    "    \n",
    "    def select_items(self):\n",
    "        return [{'text': v, 'value': k} for k, v in self.trait.values.items()]\n",
    "    \n",
    "    @observe('v_model')  \n",
    "    def handler_v_model(self, change):\n",
    "        setattr(self.obj, self.prop, change['new'])\n",
    "        print(f'New val {change[\"new\"]}')\n",
    "\n",
    "class NumberInput(v.TextField):\n",
    "    def __init__(self, obj, prop, **kwargs) -> None:\n",
    "        self.trait = obj.class_traits()[prop]\n",
    "        self.obj = obj\n",
    "        self.prop = prop\n",
    "        super().__init__(v_model=getattr(obj, prop), **kwargs)\n",
    "    \n",
    "    @observe('v_model')  \n",
    "    def handler_v_model(self, change):\n",
    "        setattr(self.obj, self.prop, change['new'])\n",
    "        print(f'New val {change[\"new\"]}')\n",
    "    "
   ]
  },
  {
   "cell_type": "code",
   "execution_count": null,
   "metadata": {},
   "outputs": [],
   "source": [
    "i = EnumSelect(xx, 'val', chips=False, filled=True, outlined=True, dense=True)\n",
    "j = NumberInput(xx, 'val', chips=False, filled=True, outlined=True, dense=True)"
   ]
  },
  {
   "cell_type": "code",
   "execution_count": null,
   "metadata": {
    "scrolled": true
   },
   "outputs": [],
   "source": [
    "i.v_model"
   ]
  },
  {
   "cell_type": "code",
   "execution_count": null,
   "metadata": {},
   "outputs": [],
   "source": [
    "v.Container(children=[v.Row(children=[i,j])])"
   ]
  },
  {
   "cell_type": "code",
   "execution_count": null,
   "metadata": {},
   "outputs": [],
   "source": [
    "xx.val"
   ]
  },
  {
   "cell_type": "code",
   "execution_count": null,
   "metadata": {},
   "outputs": [],
   "source": [
    "v.Select(items=[{'text':'dupa', 'value':12}])"
   ]
  },
  {
   "cell_type": "code",
   "execution_count": null,
   "metadata": {},
   "outputs": [],
   "source": [
    "xx.pclass.help_val"
   ]
  },
  {
   "cell_type": "code",
   "execution_count": null,
   "metadata": {},
   "outputs": [],
   "source": []
  },
  {
   "cell_type": "code",
   "execution_count": null,
   "metadata": {},
   "outputs": [],
   "source": []
  },
  {
   "cell_type": "code",
   "execution_count": null,
   "metadata": {},
   "outputs": [],
   "source": []
  },
  {
   "cell_type": "markdown",
   "metadata": {},
   "source": [
    "# First histogram plot"
   ]
  },
  {
   "cell_type": "code",
   "execution_count": null,
   "metadata": {
    "scrolled": true
   },
   "outputs": [],
   "source": [
    "import ipywidgets as widgets\n",
    "import numpy as np\n",
    "from bqplot import pyplot as plt\n",
    "import bqplot\n",
    "\n",
    "\n",
    "n = 200\n",
    "\n",
    "x = np.linspace(0.0, 10.0, n)\n",
    "y = np.cumsum(np.random.randn(n)*10).astype(int)\n",
    "\n",
    "fig = plt.figure( title='Histogram')\n",
    "np.random.seed(0)\n",
    "hist = plt.hist(y, bins=25)\n",
    "hist.scales['sample'].min = float(y.min())\n",
    "hist.scales['sample'].max = float(y.max())\n",
    "fig.layout.width = 'auto'\n",
    "fig.layout.height = 'auto'\n",
    "fig.layout.min_height = '300px' # so it shows nicely in the notebook\n",
    "fig"
   ]
  },
  {
   "cell_type": "code",
   "execution_count": null,
   "metadata": {
    "scrolled": false
   },
   "outputs": [],
   "source": [
    "slider = v.Slider(thumb_label='always', class_=\"px-4\", v_model=30)\n",
    "widgets.link((slider, 'v_model'), (hist, 'bins'))\n",
    "slider"
   ]
  },
  {
   "cell_type": "markdown",
   "metadata": {},
   "source": [
    "### Curves"
   ]
  },
  {
   "cell_type": "code",
   "execution_count": null,
   "metadata": {},
   "outputs": [],
   "source": [
    "from wdwrap.ui.curveslist import LcCurvesList, RvCurvesList\n",
    "from wdwrap.ui.uplader import LcUploader, RvUploader"
   ]
  },
  {
   "cell_type": "code",
   "execution_count": null,
   "metadata": {},
   "outputs": [],
   "source": [
    "lcs = LcCurvesList()"
   ]
  },
  {
   "cell_type": "code",
   "execution_count": null,
   "metadata": {
    "scrolled": true
   },
   "outputs": [],
   "source": [
    "vAddLC = LcUploader()\n",
    "vAddRV = RvUploader()\n",
    "display(vAddLC.widget, vAddRV.widget, )"
   ]
  },
  {
   "cell_type": "code",
   "execution_count": null,
   "metadata": {},
   "outputs": [],
   "source": [
    "list(vAddLC.widget.value.values())[0]['metadata']['name']"
   ]
  },
  {
   "cell_type": "code",
   "execution_count": null,
   "metadata": {},
   "outputs": [],
   "source": [
    "lcs.add(file=vAddLC.filename(), data=vAddLC.to_dataframe())"
   ]
  },
  {
   "cell_type": "code",
   "execution_count": null,
   "metadata": {},
   "outputs": [],
   "source": [
    "lcs.df[2, 'active'] = False"
   ]
  },
  {
   "cell_type": "code",
   "execution_count": null,
   "metadata": {},
   "outputs": [],
   "source": [
    "lcs.df"
   ]
  },
  {
   "cell_type": "code",
   "execution_count": null,
   "metadata": {},
   "outputs": [],
   "source": [
    "xxx = False"
   ]
  },
  {
   "cell_type": "code",
   "execution_count": null,
   "metadata": {
    "scrolled": true
   },
   "outputs": [],
   "source": [
    "vLCs = v.DataTable(items=lcs.items_json(), headers=lcs.headers_json(), \n",
    "                   items_per_page=20, caption='Light Curves', dense=True, disable_pagination=True,\n",
    "                   v_slots=[\n",
    "                       {'name': 'item.active', 'variable':'x','children': [v.Checkbox(label='x.value')]},\n",
    "                       {'name': 'item.plot', 'variable':'y', 'children': [v.SimpleCheckbox(v_model='y')]},\n",
    "                   ]\n",
    "                  )\n",
    "vLCs"
   ]
  },
  {
   "cell_type": "code",
   "execution_count": null,
   "metadata": {},
   "outputs": [],
   "source": [
    "v.Label(caption='sdsd')"
   ]
  },
  {
   "cell_type": "code",
   "execution_count": null,
   "metadata": {},
   "outputs": [],
   "source": [
    "vLCs = v.DataTable(items=[{'hjd':1212, 'mag':12.3}], \n",
    "                   headers=[{ 'text': 'HJD', 'value': 'hjd' },{ 'text': 'mag', 'value': 'mag' }], \n",
    "                   items_per_page=20)\n",
    "vLCs"
   ]
  },
  {
   "cell_type": "code",
   "execution_count": null,
   "metadata": {},
   "outputs": [],
   "source": []
  },
  {
   "cell_type": "code",
   "execution_count": null,
   "metadata": {},
   "outputs": [],
   "source": []
  },
  {
   "cell_type": "code",
   "execution_count": null,
   "metadata": {},
   "outputs": [],
   "source": []
  },
  {
   "cell_type": "code",
   "execution_count": null,
   "metadata": {},
   "outputs": [],
   "source": []
  },
  {
   "cell_type": "code",
   "execution_count": null,
   "metadata": {},
   "outputs": [],
   "source": []
  },
  {
   "cell_type": "code",
   "execution_count": null,
   "metadata": {},
   "outputs": [],
   "source": []
  },
  {
   "cell_type": "code",
   "execution_count": null,
   "metadata": {},
   "outputs": [],
   "source": [
    "\n",
    "addLC = widgets.FileUpload(\n",
    "    description='Observed LC',\n",
    "    icon='plus',\n",
    "    accept='',  # Accepted file extension e.g. '.txt', '.pdf', 'image/*', 'image/*,.pdf'\n",
    "    multiple=False  # True to accept multiple files upload else False\n",
    ")\n",
    "addRV = widgets.FileUpload(\n",
    "    description='Observed RV',\n",
    "    icon='plus',\n",
    "    accept='',  # Accepted file extension e.g. '.txt', '.pdf', 'image/*', 'image/*,.pdf'\n",
    "    multiple=False  # True to accept multiple files upload else False\n",
    ")\n",
    "button = widgets.Button(description=\"Click Me!\")\n",
    "display(button)\n",
    "display(addLC) \n",
    "display(addRV)"
   ]
  },
  {
   "cell_type": "code",
   "execution_count": null,
   "metadata": {},
   "outputs": [],
   "source": [
    "xx = ((list(addLC.value.values())[0]['content']))"
   ]
  },
  {
   "cell_type": "code",
   "execution_count": null,
   "metadata": {},
   "outputs": [],
   "source": [
    "from io import StringIO, BytesIO\n",
    "zzo = BytesIO(xx)"
   ]
  },
  {
   "cell_type": "code",
   "execution_count": null,
   "metadata": {},
   "outputs": [],
   "source": [
    "pd.read_table(zzo, names=['hjd', 'mag'], index_col=0, usecols=[0,1], delim_whitespace=True)"
   ]
  },
  {
   "cell_type": "code",
   "execution_count": null,
   "metadata": {},
   "outputs": [],
   "source": [
    "output = widgets.Output()\n",
    "def pt(u): \n",
    "    with output:\n",
    "        print(u)\n",
    "def on_button_clicked(b):\n",
    "    with output:\n",
    "        print(f\"Button clicked.{b}\")\n",
    "display(output)\n",
    "addLC.observe(pt)\n",
    "button.on_click(on_button_clicked)"
   ]
  },
  {
   "cell_type": "code",
   "execution_count": null,
   "metadata": {},
   "outputs": [],
   "source": [
    "on_button_clicked(5)\n",
    "pt(1)"
   ]
  },
  {
   "cell_type": "code",
   "execution_count": null,
   "metadata": {},
   "outputs": [],
   "source": [
    "uploaded_file[\"content\"]"
   ]
  },
  {
   "cell_type": "code",
   "execution_count": null,
   "metadata": {},
   "outputs": [],
   "source": [
    "ul.keys"
   ]
  },
  {
   "cell_type": "code",
   "execution_count": null,
   "metadata": {},
   "outputs": [],
   "source": [
    "ul.icon"
   ]
  },
  {
   "cell_type": "markdown",
   "metadata": {},
   "source": [
    "supernew"
   ]
  },
  {
   "cell_type": "code",
   "execution_count": null,
   "metadata": {},
   "outputs": [],
   "source": []
  },
  {
   "cell_type": "code",
   "execution_count": null,
   "metadata": {},
   "outputs": [],
   "source": [
    "v.Tabs(_metadata={'mount_id': 'content-main'}, children=[\n",
    "    v.Tab(children=['dupa1']),\n",
    "    v.Tab(children=['Tab2']),\n",
    "    v.TabItem(children=[\n",
    "        v.Layout(row=True, wrap=True, align_center=True, children=[\n",
    "            v.Flex(xs12=True, lg6=True, xl4=True, children=[\n",
    "                fig, slider, ul\n",
    "            ]),\n",
    "#             v.Flex(xs12=True, lg6=True, xl4=True, children=[\n",
    "#                 figHist2, sliderHist2\n",
    "#             ]),\n",
    "#             v.Flex(xs12=True, xl4=True, children=[\n",
    "#                 fig2\n",
    "#             ]),\n",
    "        ])\n",
    "    ]),\n",
    "    v.TabItem(children=[\n",
    "        v.Container(children=['Lorum ipsum'])\n",
    "    ])\n",
    "])"
   ]
  },
  {
   "cell_type": "code",
   "execution_count": null,
   "metadata": {},
   "outputs": [],
   "source": []
  },
  {
   "cell_type": "code",
   "execution_count": null,
   "metadata": {},
   "outputs": [],
   "source": []
  }
 ],
 "metadata": {
  "kernelspec": {
   "display_name": "Python 3",
   "language": "python",
   "name": "python3"
  },
  "language_info": {
   "codemirror_mode": {
    "name": "ipython",
    "version": 3
   },
   "file_extension": ".py",
   "mimetype": "text/x-python",
   "name": "python",
   "nbconvert_exporter": "python",
   "pygments_lexer": "ipython3",
   "version": "3.7.3"
  }
 },
 "nbformat": 4,
 "nbformat_minor": 4
}
